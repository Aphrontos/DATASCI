{
 "cells": [
  {
   "cell_type": "code",
   "execution_count": 1,
   "metadata": {},
   "outputs": [],
   "source": [
    "import requests\n",
    "from bs4 import BeautifulSoup\n",
    "import json"
   ]
  },
  {
   "cell_type": "markdown",
   "metadata": {},
   "source": [
    "# Exploratory Data Analysis"
   ]
  },
  {
   "cell_type": "markdown",
   "metadata": {},
   "source": [
    "This notebook uses NewsAPI to get the English news headlines from various sources in the Philippines, 11-12 March 2021"
   ]
  },
  {
   "cell_type": "code",
   "execution_count": 3,
   "metadata": {},
   "outputs": [],
   "source": [
    "url='https://newsapi.org/v2/top-headlines?'\n",
    "api_key='dfcfd6b976cd45f9bcf3280cc686fe03'\n",
    "parameters = {\n",
    "    'language':'en',\n",
    "    'apiKey':api_key,\n",
    "    'country':'ph',\n",
    "    'from':'2021-03-11',\n",
    "    'to':'2021-03-12'\n",
    "}\n",
    "page=requests.get(url, params=parameters)\n",
    "print(page.content)"
   ]
  },
  {
   "cell_type": "code",
   "execution_count": 4,
   "metadata": {},
   "outputs": [
    {
     "name": "stdout",
     "output_type": "stream",
     "text": [
      "dict_keys(['source', 'author', 'title', 'description', 'url', 'urlToImage', 'publishedAt', 'content'])\n"
     ]
    }
   ],
   "source": [
    "soup = BeautifulSoup(page.content, 'html.parser')\n",
    "\n",
    "page_JSON=json.loads(soup.text)\n",
    "articles=page_JSON['articles']\n",
    "\n",
    "# Get keys from one of the articles\n",
    "print(articles[0].keys())"
   ]
  },
  {
   "cell_type": "code",
   "execution_count": 5,
   "metadata": {},
   "outputs": [
    {
     "name": "stdout",
     "output_type": "stream",
     "text": [
      "2021-03-16T01:37:00Z\n",
      "2021-03-16T01:33:42Z\n",
      "2021-03-15T23:19:00Z\n",
      "2021-03-15T22:58:24Z\n",
      "2021-03-15T20:17:00Z\n",
      "2021-03-15T19:22:05Z\n",
      "2021-03-15T18:48:00Z\n",
      "2021-03-15T17:32:00Z\n",
      "2021-03-15T16:47:12Z\n",
      "2021-03-15T15:30:34Z\n",
      "2021-03-15T14:41:08Z\n",
      "2021-03-15T14:07:15Z\n",
      "2021-03-15T13:32:02Z\n",
      "2021-03-15T13:31:12Z\n",
      "2021-03-15T12:50:00Z\n",
      "2021-03-15T12:31:00Z\n",
      "2021-03-15T11:28:00Z\n",
      "2021-03-15T10:30:00Z\n",
      "2021-03-15T08:46:09Z\n",
      "2021-03-15T07:34:39Z\n"
     ]
    }
   ],
   "source": [
    "for article in articles:\n",
    "    print(article['publishedAt'])"
   ]
  },
  {
   "cell_type": "code",
   "execution_count": 6,
   "metadata": {},
   "outputs": [
    {
     "name": "stdout",
     "output_type": "stream",
     "text": [
      "COVID-19 lockdown: The past year in charts and maps - Rappler\n",
      "Rising encrypted app Signal is down in China - Yahoo Philippines News\n",
      "5 at the time of Spanish Flu, 107-yr-old gets first Covid jab - Times of India\n",
      "Supermassive black hole spotted wandering through space - CNN Philippines\n",
      "WHO: Vaccine rollout unaffected by concerns over AstraZeneca - Washington Post\n",
      "Hennessey Pits 1,000-HP Shelby GT500 Against New Porsche 911 Turbo S - Motor1\n",
      "Jeremy Clarkson hits out as EU countries halt Covid vaccine ‘My blood is still a liquid’ - Express\n",
      "Skyway Stage 3 'closed indefinitely' starting Tuesday - ABS-CBN News\n",
      "Papal Mass marks 500 years of Christianity in PH – The Manila Times - The Manila Times\n",
      "How to Get Vaccinated If You're Afraid of Needles - The New York Times\n",
      "Skoltech and MIT researchers identify optimal human landing system architectures to land on the Moon - EurekAlert\n",
      "China IMCAS's COVID-19 vaccine obtained emergency use approval in China - GMA News\n",
      "With 1v1Me, anyone can gamble on their ability to crush an opponent in player vs. player games - Yahoo Philippines News\n",
      "First Participants Dosed in Phase 1 Study Evaluating mRNA-1283, Moderna's Next Generation COVID-19 Vaccine - Joplin Globe\n",
      "Why is there no COVID vaccine for kids yet? A B.C. researcher breaks it down - North Island Gazette\n",
      "Indonesia holds off on AstraZeneca vaccine, awaits WHO review - INQUIRER.net\n",
      "On lockdown anniversary, Robredo extolls frontliners for risking their lives - INQUIRER.net\n",
      "OPPO launches Find X3 Pro - manilastandard.net\n",
      "Most over 50s will be vaccinated within weeks, says expert - Kent Live\n",
      "3 things to know: Draymond Green's triple-double helps Warriors snap losing streak with win over Jazz on Steph Curry's birthday - Warriors Wire\n"
     ]
    }
   ],
   "source": [
    "for article in articles:\n",
    "    print(article['title'])"
   ]
  },
  {
   "cell_type": "code",
   "execution_count": 7,
   "metadata": {},
   "outputs": [
    {
     "name": "stdout",
     "output_type": "stream",
     "text": [
      "A year later, on March 15, 2021, total coronavirus cases have reached 626,893, with 12,837 deaths and 560,577 recoveries, according to the Department of Health (DOH).\n",
      "A controversial documentary portraying the fierce clashes at a university in Hong Kong during the 2019 anti-government protests was pulled on Monday, hours before its scheduled cinema screening, foll… [+4063 chars]\n",
      "None\n",
      "(CNN)  Supermassive black holes usually sit like stationary engines at the centers of galaxies, sucking in everything around them.\r\n",
      "Now astronomers have detected a highly unusual case of one wanderin… [+4469 chars]\n",
      "We understand these are precautionary measures, WHO assistant director-general Mariangela Simao said. I would like to say this to countries from other regions that are not Europe: That the vaccines (… [+2698 chars]\n",
      "Few things are more enjoyable than a heads-up drag race between two incredibly powerful vehicles. Aside from the obvious instant gratification of the sport, its also a great way to measure performanc… [+1464 chars]\n",
      "None\n",
      "MANILA - The Skyway Stage 3 will be closed \"indefinitely’\"to motorists starting Tuesday, March 16.\r\n",
      "It will take effect at 5 p.m.\r\n",
      "San Miguel Corporation, the company that funded the infrastructure p… [+504 chars]\n",
      "The Vatican on Sunday celebrated the 500 years of Christianity in the Philippines with a Mass led by Pope Francis along with Filipino Cardinal Luis Antonio Tagle.\r\n",
      "The Catholic Bishops Conference of … [+3722 chars]\n",
      "The whole thing will be over in seconds, and a distraction can help you get through it.\r\n",
      "It could be a YouTube video on your phone, or your favorite song playing. You could practice deep-breathing or… [+1261 chars]\n",
      "IMAGE: The 'last mile' of a future mission to the Moon\r\n",
      " view more \r\n",
      "Credit: Pavel Odinev (Skoltech)\r\n",
      "Researchers from Skoltech and the Massachusetts Institute of Technology have analyzed several doz… [+6160 chars]\n",
      "BEIJING, China - A COVID-19 vaccine developed by the Institute of Microbiology of Chinese Academy of Sciences (IMCAS) has obtained the greenlight for emergency use in China, the institute said on Mon… [+1191 chars]\n",
      "Anthony Geranio has played video games for the past 13 years. The 26-year-old first-time founder of 1v1Me, a new company that lets anyone gamble on their ability to win in a player versus player game… [+2969 chars]\n",
      "CAMBRIDGE, Mass.--(BUSINESS WIRE)--Moderna, Inc. (Nasdaq: MRNA), a biotechnology company pioneering messenger RNA (mRNA) therapeutics and vaccines, today announced that the first participants have be… [+12831 chars]\n",
      "Although there are now several COVID-19 vaccines authorized in Canada, and vaccination efforts are ramping up, there’s still one group that’s not eligible: children.\r\n",
      "All COVID-19 vaccines in Canada … [+1775 chars]\n",
      "FILE PHOTO: Prepared syringes of the AstraZeneca COVID-19 vaccine are seen at the Clinique de l’Estree – ELSAN private hospital in Stains as part of the coronavirus disease (COVID-19) vaccination cam… [+2199 chars]\n",
      "MANILA, Philippines On the anniversary of the declaration of a Luzon-wide lockdown, Vice President Leni Robredo reminded the public that the country has much to thank frontliners for leading the way … [+4425 chars]\n",
      "6th Floor Universal Re Bldg., 106 Paseo De Roxas cor. Perea Street, Legaspi Village, 1226 Makati City Philippines\r\n",
      "Trunklines: 832-5554, 832-5556, 832-5558\n",
      "Most people over-50 will be vaccinated within weeks, according to a senior member of the UK's vaccine committee.\r\n",
      "Professor Anthony Harnden, deputy chairman of the Joint Committee on Vaccination and … [+1545 chars]\n",
      "On Steph Curry’s 33rd birthday, Draymond Green gifted his teammate a triple-double performance to help push the Golden State Warriors past the Western Conference-leading Utah Jazz, 131-119.\r\n",
      "Riding a… [+2606 chars]\n"
     ]
    }
   ],
   "source": [
    "for article in articles:\n",
    "    print(article['content'])"
   ]
  },
  {
   "cell_type": "code",
   "execution_count": 8,
   "metadata": {},
   "outputs": [
    {
     "name": "stdout",
     "output_type": "stream",
     "text": [
      "Michael Bueza\n",
      "Rita Liao\n",
      "TNN\n",
      "None\n",
      "Jamey Keaten | AP\n",
      "Matthew Crisara\n",
      "Fay Watson\n",
      "Jacque Manabat, ABS-CBN News\n",
      "None\n",
      "Daniel Victor\n",
      "None\n",
      "\n",
      "Jonathan Shieber\n",
      "None\n",
      "Katya Slepian\n",
      "Reuters\n",
      "Gabriel Pabico Lalu\n",
      "None\n",
      "Neil Shaw\n",
      "Tommy Call III\n"
     ]
    }
   ],
   "source": [
    "for article in articles:\n",
    "    print(article['author']) "
   ]
  },
  {
   "cell_type": "markdown",
   "metadata": {},
   "source": [
    "# Building the Dataset"
   ]
  },
  {
   "cell_type": "markdown",
   "metadata": {},
   "source": [
    "## Helper Functions"
   ]
  },
  {
   "cell_type": "code",
   "execution_count": 9,
   "metadata": {},
   "outputs": [],
   "source": [
    "# Constants\n",
    "filepath = \"C:/Users/USER/OneDrive/Desktop/news-20210311-20210312.json\""
   ]
  },
  {
   "cell_type": "code",
   "execution_count": 10,
   "metadata": {},
   "outputs": [],
   "source": [
    "def get_info(article):\n",
    "    timestamp=article['publishedAt']\n",
    "    title=article['title']\n",
    "    content=article['content']\n",
    "    author=article['author']\n",
    "    return timestamp, title, content, author "
   ]
  },
  {
   "cell_type": "code",
   "execution_count": 11,
   "metadata": {},
   "outputs": [],
   "source": [
    "def extract(articles):\n",
    "    for i in range(len(articles)):\n",
    "        timestamp, title, content, author=get_info(articles[i])\n",
    "        print(timestamp +\"\\n\"+title)\n",
    "        print(content)\n",
    "        print(author)\n",
    "        print(\"\\n\")"
   ]
  },
  {
   "cell_type": "code",
   "execution_count": 12,
   "metadata": {},
   "outputs": [],
   "source": [
    "def save_to_JSON(articles):\n",
    "    site_JSON=[]\n",
    "    for i in range(len(articles)):\n",
    "        timestamp, title, content, author=get_info(articles[i])\n",
    "        site_JSON.append({\n",
    "            \"timestamp\":timestamp,\n",
    "            \"title\":title,\n",
    "            \"content\":content,\n",
    "            \"author\":author\n",
    "        })\n",
    "    with open(filepath, 'w') as f:\n",
    "        json.dump(site_JSON, f)"
   ]
  },
  {
   "cell_type": "markdown",
   "metadata": {},
   "source": [
    "## Running all the above functions"
   ]
  },
  {
   "cell_type": "code",
   "execution_count": 13,
   "metadata": {},
   "outputs": [
    {
     "name": "stdout",
     "output_type": "stream",
     "text": [
      "2021-03-16T01:37:00Z\n",
      "COVID-19 lockdown: The past year in charts and maps - Rappler\n",
      "A year later, on March 15, 2021, total coronavirus cases have reached 626,893, with 12,837 deaths and 560,577 recoveries, according to the Department of Health (DOH).\n",
      "Michael Bueza\n",
      "\n",
      "\n",
      "2021-03-16T01:33:42Z\n",
      "Rising encrypted app Signal is down in China - Yahoo Philippines News\n",
      "A controversial documentary portraying the fierce clashes at a university in Hong Kong during the 2019 anti-government protests was pulled on Monday, hours before its scheduled cinema screening, foll… [+4063 chars]\n",
      "Rita Liao\n",
      "\n",
      "\n",
      "2021-03-15T23:19:00Z\n",
      "5 at the time of Spanish Flu, 107-yr-old gets first Covid jab - Times of India\n",
      "None\n",
      "TNN\n",
      "\n",
      "\n",
      "2021-03-15T22:58:24Z\n",
      "Supermassive black hole spotted wandering through space - CNN Philippines\n",
      "(CNN)  Supermassive black holes usually sit like stationary engines at the centers of galaxies, sucking in everything around them.\r\n",
      "Now astronomers have detected a highly unusual case of one wanderin… [+4469 chars]\n",
      "None\n",
      "\n",
      "\n",
      "2021-03-15T20:17:00Z\n",
      "WHO: Vaccine rollout unaffected by concerns over AstraZeneca - Washington Post\n",
      "We understand these are precautionary measures, WHO assistant director-general Mariangela Simao said. I would like to say this to countries from other regions that are not Europe: That the vaccines (… [+2698 chars]\n",
      "Jamey Keaten | AP\n",
      "\n",
      "\n",
      "2021-03-15T19:22:05Z\n",
      "Hennessey Pits 1,000-HP Shelby GT500 Against New Porsche 911 Turbo S - Motor1\n",
      "Few things are more enjoyable than a heads-up drag race between two incredibly powerful vehicles. Aside from the obvious instant gratification of the sport, its also a great way to measure performanc… [+1464 chars]\n",
      "Matthew Crisara\n",
      "\n",
      "\n",
      "2021-03-15T18:48:00Z\n",
      "Jeremy Clarkson hits out as EU countries halt Covid vaccine ‘My blood is still a liquid’ - Express\n",
      "None\n",
      "Fay Watson\n",
      "\n",
      "\n",
      "2021-03-15T17:32:00Z\n",
      "Skyway Stage 3 'closed indefinitely' starting Tuesday - ABS-CBN News\n",
      "MANILA - The Skyway Stage 3 will be closed \"indefinitely’\"to motorists starting Tuesday, March 16.\r\n",
      "It will take effect at 5 p.m.\r\n",
      "San Miguel Corporation, the company that funded the infrastructure p… [+504 chars]\n",
      "Jacque Manabat, ABS-CBN News\n",
      "\n",
      "\n",
      "2021-03-15T16:47:12Z\n",
      "Papal Mass marks 500 years of Christianity in PH – The Manila Times - The Manila Times\n",
      "The Vatican on Sunday celebrated the 500 years of Christianity in the Philippines with a Mass led by Pope Francis along with Filipino Cardinal Luis Antonio Tagle.\r\n",
      "The Catholic Bishops Conference of … [+3722 chars]\n",
      "None\n",
      "\n",
      "\n",
      "2021-03-15T15:30:34Z\n",
      "How to Get Vaccinated If You're Afraid of Needles - The New York Times\n",
      "The whole thing will be over in seconds, and a distraction can help you get through it.\r\n",
      "It could be a YouTube video on your phone, or your favorite song playing. You could practice deep-breathing or… [+1261 chars]\n",
      "Daniel Victor\n",
      "\n",
      "\n",
      "2021-03-15T14:41:08Z\n",
      "Skoltech and MIT researchers identify optimal human landing system architectures to land on the Moon - EurekAlert\n",
      "IMAGE: The 'last mile' of a future mission to the Moon\r\n",
      " view more \r\n",
      "Credit: Pavel Odinev (Skoltech)\r\n",
      "Researchers from Skoltech and the Massachusetts Institute of Technology have analyzed several doz… [+6160 chars]\n",
      "None\n",
      "\n",
      "\n",
      "2021-03-15T14:07:15Z\n",
      "China IMCAS's COVID-19 vaccine obtained emergency use approval in China - GMA News\n",
      "BEIJING, China - A COVID-19 vaccine developed by the Institute of Microbiology of Chinese Academy of Sciences (IMCAS) has obtained the greenlight for emergency use in China, the institute said on Mon… [+1191 chars]\n",
      "\n",
      "\n",
      "\n",
      "2021-03-15T13:32:02Z\n",
      "With 1v1Me, anyone can gamble on their ability to crush an opponent in player vs. player games - Yahoo Philippines News\n",
      "Anthony Geranio has played video games for the past 13 years. The 26-year-old first-time founder of 1v1Me, a new company that lets anyone gamble on their ability to win in a player versus player game… [+2969 chars]\n",
      "Jonathan Shieber\n",
      "\n",
      "\n",
      "2021-03-15T13:31:12Z\n",
      "First Participants Dosed in Phase 1 Study Evaluating mRNA-1283, Moderna's Next Generation COVID-19 Vaccine - Joplin Globe\n",
      "CAMBRIDGE, Mass.--(BUSINESS WIRE)--Moderna, Inc. (Nasdaq: MRNA), a biotechnology company pioneering messenger RNA (mRNA) therapeutics and vaccines, today announced that the first participants have be… [+12831 chars]\n",
      "None\n",
      "\n",
      "\n",
      "2021-03-15T12:50:00Z\n",
      "Why is there no COVID vaccine for kids yet? A B.C. researcher breaks it down - North Island Gazette\n",
      "Although there are now several COVID-19 vaccines authorized in Canada, and vaccination efforts are ramping up, there’s still one group that’s not eligible: children.\r\n",
      "All COVID-19 vaccines in Canada … [+1775 chars]\n",
      "Katya Slepian\n",
      "\n",
      "\n",
      "2021-03-15T12:31:00Z\n",
      "Indonesia holds off on AstraZeneca vaccine, awaits WHO review - INQUIRER.net\n",
      "FILE PHOTO: Prepared syringes of the AstraZeneca COVID-19 vaccine are seen at the Clinique de l’Estree – ELSAN private hospital in Stains as part of the coronavirus disease (COVID-19) vaccination cam… [+2199 chars]\n",
      "Reuters\n",
      "\n",
      "\n",
      "2021-03-15T11:28:00Z\n",
      "On lockdown anniversary, Robredo extolls frontliners for risking their lives - INQUIRER.net\n",
      "MANILA, Philippines On the anniversary of the declaration of a Luzon-wide lockdown, Vice President Leni Robredo reminded the public that the country has much to thank frontliners for leading the way … [+4425 chars]\n",
      "Gabriel Pabico Lalu\n",
      "\n",
      "\n",
      "2021-03-15T10:30:00Z\n",
      "OPPO launches Find X3 Pro - manilastandard.net\n",
      "6th Floor Universal Re Bldg., 106 Paseo De Roxas cor. Perea Street, Legaspi Village, 1226 Makati City Philippines\r\n",
      "Trunklines: 832-5554, 832-5556, 832-5558\n",
      "None\n",
      "\n",
      "\n",
      "2021-03-15T08:46:09Z\n",
      "Most over 50s will be vaccinated within weeks, says expert - Kent Live\n",
      "Most people over-50 will be vaccinated within weeks, according to a senior member of the UK's vaccine committee.\r\n",
      "Professor Anthony Harnden, deputy chairman of the Joint Committee on Vaccination and … [+1545 chars]\n",
      "Neil Shaw\n",
      "\n",
      "\n",
      "2021-03-15T07:34:39Z\n",
      "3 things to know: Draymond Green's triple-double helps Warriors snap losing streak with win over Jazz on Steph Curry's birthday - Warriors Wire\n",
      "On Steph Curry’s 33rd birthday, Draymond Green gifted his teammate a triple-double performance to help push the Golden State Warriors past the Western Conference-leading Utah Jazz, 131-119.\r\n",
      "Riding a… [+2606 chars]\n",
      "Tommy Call III\n",
      "\n",
      "\n"
     ]
    }
   ],
   "source": [
    "extract(articles)\n",
    "save_to_JSON(articles)"
   ]
  },
  {
   "cell_type": "code",
   "execution_count": null,
   "metadata": {},
   "outputs": [],
   "source": []
  }
 ],
 "metadata": {
  "kernelspec": {
   "display_name": "Python 3",
   "language": "python",
   "name": "python3"
  },
  "language_info": {
   "codemirror_mode": {
    "name": "ipython",
    "version": 3
   },
   "file_extension": ".py",
   "mimetype": "text/x-python",
   "name": "python",
   "nbconvert_exporter": "python",
   "pygments_lexer": "ipython3",
   "version": "3.8.5"
  }
 },
 "nbformat": 4,
 "nbformat_minor": 4
}
